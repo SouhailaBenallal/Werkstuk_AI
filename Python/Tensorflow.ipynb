{
 "metadata": {
  "language_info": {
   "codemirror_mode": {
    "name": "ipython",
    "version": 3
   },
   "file_extension": ".py",
   "mimetype": "text/x-python",
   "name": "python",
   "nbconvert_exporter": "python",
   "pygments_lexer": "ipython3",
   "version": "3.7.10"
  },
  "orig_nbformat": 2,
  "kernelspec": {
   "name": "python3710jvsc74a57bd09470a5c4989bd6afc943dff2de9d84f1e30ca8967bd35f892032d1cace6361dc",
   "display_name": "Python 3.7.10 64-bit ('tf-2': conda)"
  }
 },
 "nbformat": 4,
 "nbformat_minor": 2,
 "cells": [
  {
   "cell_type": "code",
   "execution_count": 5,
   "metadata": {},
   "outputs": [],
   "source": [
    "# TensorFlow and tf.keras\n",
    "import tensorflowjs as tfjs\n",
    "import tensorflow as tf\n",
    "# Helper libraries\n",
    "import numpy as np\n",
    "import pandas as pd\n",
    "import matplotlib.pyplot as plt\n",
    "from sklearn.metrics import confusion_matrix\n",
    "import math\n",
    "from sklearn.model_selection import train_test_split\n"
   ]
  },
  {
   "source": [
    "# Import data"
   ],
   "cell_type": "markdown",
   "metadata": {}
  },
  {
   "cell_type": "code",
   "execution_count": 8,
   "metadata": {},
   "outputs": [],
   "source": [
    "dataset = pd.read_csv(\"fatal-police-shootings-data.csv\")"
   ]
  },
  {
   "source": [
    "# Data processing"
   ],
   "cell_type": "markdown",
   "metadata": {}
  },
  {
   "cell_type": "code",
   "execution_count": 11,
   "metadata": {},
   "outputs": [
    {
     "output_type": "execute_result",
     "data": {
      "text/plain": [
       "(5416, 14)"
      ]
     },
     "metadata": {},
     "execution_count": 11
    }
   ],
   "source": [
    "# Number of row and columns\n",
    "dataset.shape"
   ]
  },
  {
   "cell_type": "code",
   "execution_count": 14,
   "metadata": {},
   "outputs": [],
   "source": [
    "# Missing values\n",
    "index_drop = []\n",
    "column_name = [\"armed\",\"age\", \"gender\", \"race\", \"signs_of_mental_illness\", \"threat_level\",  \"flee\", \"body_camera\"]\n",
    "\n",
    "\n",
    "for i in column_name:\n",
    "    drop_column = list(dataset.loc[(dataset[i] == \"undetermined\")].index)\n",
    "    index_drop += drop_column\n",
    "    \n",
    "    \n",
    "index_drop\n",
    "index_drop = list(dict.fromkeys(index_drop))\n",
    "\n",
    "# New dataset without missing values\n",
    "dataset = dataset.drop(labels=None, axis=0, index=index_drop, columns=None, level=None, inplace=False, errors='raise')"
   ]
  },
  {
   "cell_type": "code",
   "execution_count": 17,
   "metadata": {},
   "outputs": [],
   "source": [
    "# Drop NaN\n",
    "dataset = dataset.reset_index().dropna().set_index('index')"
   ]
  },
  {
   "cell_type": "code",
   "execution_count": 20,
   "metadata": {},
   "outputs": [
    {
     "output_type": "execute_result",
     "data": {
      "text/plain": [
       "         id                name        date   manner_of_death         armed  \\\n",
       "index                                                                         \n",
       "0         3          Tim Elliot  2015-01-02              shot           gun   \n",
       "1         4    Lewis Lee Lembke  2015-01-02              shot           gun   \n",
       "2         5  John Paul Quintero  2015-01-03  shot and Tasered       unarmed   \n",
       "3         8     Matthew Hoffman  2015-01-04              shot  White weapon   \n",
       "4         9   Michael Rodriguez  2015-01-04              shot  White weapon   \n",
       "...     ...                 ...         ...               ...           ...   \n",
       "5408   5916     Rayshard Brooks  2020-06-12              shot  White weapon   \n",
       "5409   5925      Caine Van Pelt  2020-06-12              shot           gun   \n",
       "5410   5918        Hannah Fizer  2020-06-13              shot       unarmed   \n",
       "5411   5921      William Slyter  2020-06-13              shot           gun   \n",
       "5413   5924      Nicholas Hirsh  2020-06-15              shot           gun   \n",
       "\n",
       "        age gender race           city state  signs_of_mental_illness  \\\n",
       "index                                                                   \n",
       "0      53.0      M    A        Shelton    WA                     True   \n",
       "1      47.0      M    W          Aloha    OR                    False   \n",
       "2      23.0      M    H        Wichita    KS                    False   \n",
       "3      32.0      M    W  San Francisco    CA                     True   \n",
       "4      39.0      M    H          Evans    CO                    False   \n",
       "...     ...    ...  ...            ...   ...                      ...   \n",
       "5408   27.0      M    B        Atlanta    GA                    False   \n",
       "5409   23.0      M    B    Crown Point    IN                    False   \n",
       "5410   25.0      F    W        Sedalia    MO                    False   \n",
       "5411   22.0      M    W    Kansas City    MO                    False   \n",
       "5413   31.0      M    W       Lawrence    KS                    False   \n",
       "\n",
       "      threat_level         flee  body_camera  \n",
       "index                                         \n",
       "0           attack  Not fleeing        False  \n",
       "1           attack  Not fleeing        False  \n",
       "2            other  Not fleeing        False  \n",
       "3           attack  Not fleeing        False  \n",
       "4           attack  Not fleeing        False  \n",
       "...            ...          ...          ...  \n",
       "5408        attack         Foot         True  \n",
       "5409        attack          Car        False  \n",
       "5410         other  Not fleeing        False  \n",
       "5411         other        Other        False  \n",
       "5413        attack          Car        False  \n",
       "\n",
       "[4181 rows x 14 columns]"
      ],
      "text/html": "<div>\n<style scoped>\n    .dataframe tbody tr th:only-of-type {\n        vertical-align: middle;\n    }\n\n    .dataframe tbody tr th {\n        vertical-align: top;\n    }\n\n    .dataframe thead th {\n        text-align: right;\n    }\n</style>\n<table border=\"1\" class=\"dataframe\">\n  <thead>\n    <tr style=\"text-align: right;\">\n      <th></th>\n      <th>id</th>\n      <th>name</th>\n      <th>date</th>\n      <th>manner_of_death</th>\n      <th>armed</th>\n      <th>age</th>\n      <th>gender</th>\n      <th>race</th>\n      <th>city</th>\n      <th>state</th>\n      <th>signs_of_mental_illness</th>\n      <th>threat_level</th>\n      <th>flee</th>\n      <th>body_camera</th>\n    </tr>\n    <tr>\n      <th>index</th>\n      <th></th>\n      <th></th>\n      <th></th>\n      <th></th>\n      <th></th>\n      <th></th>\n      <th></th>\n      <th></th>\n      <th></th>\n      <th></th>\n      <th></th>\n      <th></th>\n      <th></th>\n      <th></th>\n    </tr>\n  </thead>\n  <tbody>\n    <tr>\n      <th>0</th>\n      <td>3</td>\n      <td>Tim Elliot</td>\n      <td>2015-01-02</td>\n      <td>shot</td>\n      <td>gun</td>\n      <td>53.0</td>\n      <td>M</td>\n      <td>A</td>\n      <td>Shelton</td>\n      <td>WA</td>\n      <td>True</td>\n      <td>attack</td>\n      <td>Not fleeing</td>\n      <td>False</td>\n    </tr>\n    <tr>\n      <th>1</th>\n      <td>4</td>\n      <td>Lewis Lee Lembke</td>\n      <td>2015-01-02</td>\n      <td>shot</td>\n      <td>gun</td>\n      <td>47.0</td>\n      <td>M</td>\n      <td>W</td>\n      <td>Aloha</td>\n      <td>OR</td>\n      <td>False</td>\n      <td>attack</td>\n      <td>Not fleeing</td>\n      <td>False</td>\n    </tr>\n    <tr>\n      <th>2</th>\n      <td>5</td>\n      <td>John Paul Quintero</td>\n      <td>2015-01-03</td>\n      <td>shot and Tasered</td>\n      <td>unarmed</td>\n      <td>23.0</td>\n      <td>M</td>\n      <td>H</td>\n      <td>Wichita</td>\n      <td>KS</td>\n      <td>False</td>\n      <td>other</td>\n      <td>Not fleeing</td>\n      <td>False</td>\n    </tr>\n    <tr>\n      <th>3</th>\n      <td>8</td>\n      <td>Matthew Hoffman</td>\n      <td>2015-01-04</td>\n      <td>shot</td>\n      <td>White weapon</td>\n      <td>32.0</td>\n      <td>M</td>\n      <td>W</td>\n      <td>San Francisco</td>\n      <td>CA</td>\n      <td>True</td>\n      <td>attack</td>\n      <td>Not fleeing</td>\n      <td>False</td>\n    </tr>\n    <tr>\n      <th>4</th>\n      <td>9</td>\n      <td>Michael Rodriguez</td>\n      <td>2015-01-04</td>\n      <td>shot</td>\n      <td>White weapon</td>\n      <td>39.0</td>\n      <td>M</td>\n      <td>H</td>\n      <td>Evans</td>\n      <td>CO</td>\n      <td>False</td>\n      <td>attack</td>\n      <td>Not fleeing</td>\n      <td>False</td>\n    </tr>\n    <tr>\n      <th>...</th>\n      <td>...</td>\n      <td>...</td>\n      <td>...</td>\n      <td>...</td>\n      <td>...</td>\n      <td>...</td>\n      <td>...</td>\n      <td>...</td>\n      <td>...</td>\n      <td>...</td>\n      <td>...</td>\n      <td>...</td>\n      <td>...</td>\n      <td>...</td>\n    </tr>\n    <tr>\n      <th>5408</th>\n      <td>5916</td>\n      <td>Rayshard Brooks</td>\n      <td>2020-06-12</td>\n      <td>shot</td>\n      <td>White weapon</td>\n      <td>27.0</td>\n      <td>M</td>\n      <td>B</td>\n      <td>Atlanta</td>\n      <td>GA</td>\n      <td>False</td>\n      <td>attack</td>\n      <td>Foot</td>\n      <td>True</td>\n    </tr>\n    <tr>\n      <th>5409</th>\n      <td>5925</td>\n      <td>Caine Van Pelt</td>\n      <td>2020-06-12</td>\n      <td>shot</td>\n      <td>gun</td>\n      <td>23.0</td>\n      <td>M</td>\n      <td>B</td>\n      <td>Crown Point</td>\n      <td>IN</td>\n      <td>False</td>\n      <td>attack</td>\n      <td>Car</td>\n      <td>False</td>\n    </tr>\n    <tr>\n      <th>5410</th>\n      <td>5918</td>\n      <td>Hannah Fizer</td>\n      <td>2020-06-13</td>\n      <td>shot</td>\n      <td>unarmed</td>\n      <td>25.0</td>\n      <td>F</td>\n      <td>W</td>\n      <td>Sedalia</td>\n      <td>MO</td>\n      <td>False</td>\n      <td>other</td>\n      <td>Not fleeing</td>\n      <td>False</td>\n    </tr>\n    <tr>\n      <th>5411</th>\n      <td>5921</td>\n      <td>William Slyter</td>\n      <td>2020-06-13</td>\n      <td>shot</td>\n      <td>gun</td>\n      <td>22.0</td>\n      <td>M</td>\n      <td>W</td>\n      <td>Kansas City</td>\n      <td>MO</td>\n      <td>False</td>\n      <td>other</td>\n      <td>Other</td>\n      <td>False</td>\n    </tr>\n    <tr>\n      <th>5413</th>\n      <td>5924</td>\n      <td>Nicholas Hirsh</td>\n      <td>2020-06-15</td>\n      <td>shot</td>\n      <td>gun</td>\n      <td>31.0</td>\n      <td>M</td>\n      <td>W</td>\n      <td>Lawrence</td>\n      <td>KS</td>\n      <td>False</td>\n      <td>attack</td>\n      <td>Car</td>\n      <td>False</td>\n    </tr>\n  </tbody>\n</table>\n<p>4181 rows × 14 columns</p>\n</div>"
     },
     "metadata": {},
     "execution_count": 20
    }
   ],
   "source": [
    "# Replace with White weapon \n",
    "dataset_1 = dataset.replace(list(dataset[\"armed\"].unique())[2:len(list(dataset[\"armed\"].unique()))], \"White weapon\")\n",
    "    \n",
    "dataset_1 "
   ]
  },
  {
   "cell_type": "code",
   "execution_count": 23,
   "metadata": {},
   "outputs": [
    {
     "output_type": "stream",
     "name": "stdout",
     "text": [
      "index\n0                gun\n1                gun\n2            unarmed\n3       White weapon\n4       White weapon\n            ...     \n5408    White weapon\n5409             gun\n5410         unarmed\n5411             gun\n5413             gun\nName: armed, Length: 4181, dtype: object\n"
     ]
    }
   ],
   "source": [
    "# Target\n",
    "target = dataset_1[\"armed\"]\n",
    "print(target)\n",
    "# Features \n",
    "features_names = [\"age\", \"gender\", \"race\", \"signs_of_mental_illness\", \"threat_level\",  \"flee\", \"body_camera\"]\n",
    "features_row = dataset_1[features_names]"
   ]
  },
  {
   "cell_type": "code",
   "execution_count": 26,
   "metadata": {},
   "outputs": [
    {
     "output_type": "execute_result",
     "data": {
      "text/plain": [
       "index\n",
       "0                gun\n",
       "1                gun\n",
       "2            unarmed\n",
       "3       White weapon\n",
       "4       White weapon\n",
       "            ...     \n",
       "5408    White weapon\n",
       "5409             gun\n",
       "5410         unarmed\n",
       "5411             gun\n",
       "5413             gun\n",
       "Name: armed, Length: 4181, dtype: object"
      ]
     },
     "metadata": {},
     "execution_count": 26
    }
   ],
   "source": [
    "target"
   ]
  },
  {
   "cell_type": "code",
   "execution_count": 29,
   "metadata": {},
   "outputs": [],
   "source": [
    "# One-hot encoding for features\n",
    "features = pd.get_dummies(features_row, columns=['gender', \n",
    "                                             'race', \n",
    "                                             'signs_of_mental_illness', \n",
    "                                             'threat_level',  \n",
    "                                             'flee', \n",
    "                                             'body_camera'])"
   ]
  },
  {
   "cell_type": "code",
   "execution_count": 32,
   "metadata": {},
   "outputs": [
    {
     "output_type": "execute_result",
     "data": {
      "text/plain": [
       "        age  gender_F  gender_M  race_A  race_B  race_H  race_N  race_O  \\\n",
       "index                                                                     \n",
       "0      53.0         0         1       1       0       0       0       0   \n",
       "1      47.0         0         1       0       0       0       0       0   \n",
       "2      23.0         0         1       0       0       1       0       0   \n",
       "3      32.0         0         1       0       0       0       0       0   \n",
       "4      39.0         0         1       0       0       1       0       0   \n",
       "...     ...       ...       ...     ...     ...     ...     ...     ...   \n",
       "5408   27.0         0         1       0       1       0       0       0   \n",
       "5409   23.0         0         1       0       1       0       0       0   \n",
       "5410   25.0         1         0       0       0       0       0       0   \n",
       "5411   22.0         0         1       0       0       0       0       0   \n",
       "5413   31.0         0         1       0       0       0       0       0   \n",
       "\n",
       "       race_W  signs_of_mental_illness_False  signs_of_mental_illness_True  \\\n",
       "index                                                                        \n",
       "0           0                              0                             1   \n",
       "1           1                              1                             0   \n",
       "2           0                              1                             0   \n",
       "3           1                              0                             1   \n",
       "4           0                              1                             0   \n",
       "...       ...                            ...                           ...   \n",
       "5408        0                              1                             0   \n",
       "5409        0                              1                             0   \n",
       "5410        1                              1                             0   \n",
       "5411        1                              1                             0   \n",
       "5413        1                              1                             0   \n",
       "\n",
       "       threat_level_attack  threat_level_other  flee_Car  flee_Foot  \\\n",
       "index                                                                 \n",
       "0                        1                   0         0          0   \n",
       "1                        1                   0         0          0   \n",
       "2                        0                   1         0          0   \n",
       "3                        1                   0         0          0   \n",
       "4                        1                   0         0          0   \n",
       "...                    ...                 ...       ...        ...   \n",
       "5408                     1                   0         0          1   \n",
       "5409                     1                   0         1          0   \n",
       "5410                     0                   1         0          0   \n",
       "5411                     0                   1         0          0   \n",
       "5413                     1                   0         1          0   \n",
       "\n",
       "       flee_Not fleeing  flee_Other  body_camera_False  body_camera_True  \n",
       "index                                                                     \n",
       "0                     1           0                  1                 0  \n",
       "1                     1           0                  1                 0  \n",
       "2                     1           0                  1                 0  \n",
       "3                     1           0                  1                 0  \n",
       "4                     1           0                  1                 0  \n",
       "...                 ...         ...                ...               ...  \n",
       "5408                  0           0                  0                 1  \n",
       "5409                  0           0                  1                 0  \n",
       "5410                  1           0                  1                 0  \n",
       "5411                  0           1                  1                 0  \n",
       "5413                  0           0                  1                 0  \n",
       "\n",
       "[4181 rows x 19 columns]"
      ],
      "text/html": "<div>\n<style scoped>\n    .dataframe tbody tr th:only-of-type {\n        vertical-align: middle;\n    }\n\n    .dataframe tbody tr th {\n        vertical-align: top;\n    }\n\n    .dataframe thead th {\n        text-align: right;\n    }\n</style>\n<table border=\"1\" class=\"dataframe\">\n  <thead>\n    <tr style=\"text-align: right;\">\n      <th></th>\n      <th>age</th>\n      <th>gender_F</th>\n      <th>gender_M</th>\n      <th>race_A</th>\n      <th>race_B</th>\n      <th>race_H</th>\n      <th>race_N</th>\n      <th>race_O</th>\n      <th>race_W</th>\n      <th>signs_of_mental_illness_False</th>\n      <th>signs_of_mental_illness_True</th>\n      <th>threat_level_attack</th>\n      <th>threat_level_other</th>\n      <th>flee_Car</th>\n      <th>flee_Foot</th>\n      <th>flee_Not fleeing</th>\n      <th>flee_Other</th>\n      <th>body_camera_False</th>\n      <th>body_camera_True</th>\n    </tr>\n    <tr>\n      <th>index</th>\n      <th></th>\n      <th></th>\n      <th></th>\n      <th></th>\n      <th></th>\n      <th></th>\n      <th></th>\n      <th></th>\n      <th></th>\n      <th></th>\n      <th></th>\n      <th></th>\n      <th></th>\n      <th></th>\n      <th></th>\n      <th></th>\n      <th></th>\n      <th></th>\n      <th></th>\n    </tr>\n  </thead>\n  <tbody>\n    <tr>\n      <th>0</th>\n      <td>53.0</td>\n      <td>0</td>\n      <td>1</td>\n      <td>1</td>\n      <td>0</td>\n      <td>0</td>\n      <td>0</td>\n      <td>0</td>\n      <td>0</td>\n      <td>0</td>\n      <td>1</td>\n      <td>1</td>\n      <td>0</td>\n      <td>0</td>\n      <td>0</td>\n      <td>1</td>\n      <td>0</td>\n      <td>1</td>\n      <td>0</td>\n    </tr>\n    <tr>\n      <th>1</th>\n      <td>47.0</td>\n      <td>0</td>\n      <td>1</td>\n      <td>0</td>\n      <td>0</td>\n      <td>0</td>\n      <td>0</td>\n      <td>0</td>\n      <td>1</td>\n      <td>1</td>\n      <td>0</td>\n      <td>1</td>\n      <td>0</td>\n      <td>0</td>\n      <td>0</td>\n      <td>1</td>\n      <td>0</td>\n      <td>1</td>\n      <td>0</td>\n    </tr>\n    <tr>\n      <th>2</th>\n      <td>23.0</td>\n      <td>0</td>\n      <td>1</td>\n      <td>0</td>\n      <td>0</td>\n      <td>1</td>\n      <td>0</td>\n      <td>0</td>\n      <td>0</td>\n      <td>1</td>\n      <td>0</td>\n      <td>0</td>\n      <td>1</td>\n      <td>0</td>\n      <td>0</td>\n      <td>1</td>\n      <td>0</td>\n      <td>1</td>\n      <td>0</td>\n    </tr>\n    <tr>\n      <th>3</th>\n      <td>32.0</td>\n      <td>0</td>\n      <td>1</td>\n      <td>0</td>\n      <td>0</td>\n      <td>0</td>\n      <td>0</td>\n      <td>0</td>\n      <td>1</td>\n      <td>0</td>\n      <td>1</td>\n      <td>1</td>\n      <td>0</td>\n      <td>0</td>\n      <td>0</td>\n      <td>1</td>\n      <td>0</td>\n      <td>1</td>\n      <td>0</td>\n    </tr>\n    <tr>\n      <th>4</th>\n      <td>39.0</td>\n      <td>0</td>\n      <td>1</td>\n      <td>0</td>\n      <td>0</td>\n      <td>1</td>\n      <td>0</td>\n      <td>0</td>\n      <td>0</td>\n      <td>1</td>\n      <td>0</td>\n      <td>1</td>\n      <td>0</td>\n      <td>0</td>\n      <td>0</td>\n      <td>1</td>\n      <td>0</td>\n      <td>1</td>\n      <td>0</td>\n    </tr>\n    <tr>\n      <th>...</th>\n      <td>...</td>\n      <td>...</td>\n      <td>...</td>\n      <td>...</td>\n      <td>...</td>\n      <td>...</td>\n      <td>...</td>\n      <td>...</td>\n      <td>...</td>\n      <td>...</td>\n      <td>...</td>\n      <td>...</td>\n      <td>...</td>\n      <td>...</td>\n      <td>...</td>\n      <td>...</td>\n      <td>...</td>\n      <td>...</td>\n      <td>...</td>\n    </tr>\n    <tr>\n      <th>5408</th>\n      <td>27.0</td>\n      <td>0</td>\n      <td>1</td>\n      <td>0</td>\n      <td>1</td>\n      <td>0</td>\n      <td>0</td>\n      <td>0</td>\n      <td>0</td>\n      <td>1</td>\n      <td>0</td>\n      <td>1</td>\n      <td>0</td>\n      <td>0</td>\n      <td>1</td>\n      <td>0</td>\n      <td>0</td>\n      <td>0</td>\n      <td>1</td>\n    </tr>\n    <tr>\n      <th>5409</th>\n      <td>23.0</td>\n      <td>0</td>\n      <td>1</td>\n      <td>0</td>\n      <td>1</td>\n      <td>0</td>\n      <td>0</td>\n      <td>0</td>\n      <td>0</td>\n      <td>1</td>\n      <td>0</td>\n      <td>1</td>\n      <td>0</td>\n      <td>1</td>\n      <td>0</td>\n      <td>0</td>\n      <td>0</td>\n      <td>1</td>\n      <td>0</td>\n    </tr>\n    <tr>\n      <th>5410</th>\n      <td>25.0</td>\n      <td>1</td>\n      <td>0</td>\n      <td>0</td>\n      <td>0</td>\n      <td>0</td>\n      <td>0</td>\n      <td>0</td>\n      <td>1</td>\n      <td>1</td>\n      <td>0</td>\n      <td>0</td>\n      <td>1</td>\n      <td>0</td>\n      <td>0</td>\n      <td>1</td>\n      <td>0</td>\n      <td>1</td>\n      <td>0</td>\n    </tr>\n    <tr>\n      <th>5411</th>\n      <td>22.0</td>\n      <td>0</td>\n      <td>1</td>\n      <td>0</td>\n      <td>0</td>\n      <td>0</td>\n      <td>0</td>\n      <td>0</td>\n      <td>1</td>\n      <td>1</td>\n      <td>0</td>\n      <td>0</td>\n      <td>1</td>\n      <td>0</td>\n      <td>0</td>\n      <td>0</td>\n      <td>1</td>\n      <td>1</td>\n      <td>0</td>\n    </tr>\n    <tr>\n      <th>5413</th>\n      <td>31.0</td>\n      <td>0</td>\n      <td>1</td>\n      <td>0</td>\n      <td>0</td>\n      <td>0</td>\n      <td>0</td>\n      <td>0</td>\n      <td>1</td>\n      <td>1</td>\n      <td>0</td>\n      <td>1</td>\n      <td>0</td>\n      <td>1</td>\n      <td>0</td>\n      <td>0</td>\n      <td>0</td>\n      <td>1</td>\n      <td>0</td>\n    </tr>\n  </tbody>\n</table>\n<p>4181 rows × 19 columns</p>\n</div>"
     },
     "metadata": {},
     "execution_count": 32
    }
   ],
   "source": [
    "features"
   ]
  },
  {
   "cell_type": "code",
   "execution_count": 35,
   "metadata": {},
   "outputs": [
    {
     "output_type": "execute_result",
     "data": {
      "text/plain": [
       "index\n",
       "0       0\n",
       "1       0\n",
       "2       1\n",
       "3       2\n",
       "4       2\n",
       "       ..\n",
       "5408    2\n",
       "5409    0\n",
       "5410    1\n",
       "5411    0\n",
       "5413    0\n",
       "Name: armed, Length: 4181, dtype: int64"
      ]
     },
     "metadata": {},
     "execution_count": 35
    }
   ],
   "source": [
    "# transform target \n",
    "target = target.replace([\"gun\", \"unarmed\", \"White weapon\"], [0, 1, 2])\n",
    "\n",
    "target"
   ]
  },
  {
   "cell_type": "code",
   "execution_count": 38,
   "metadata": {},
   "outputs": [
    {
     "output_type": "execute_result",
     "data": {
      "text/plain": [
       "0    2553\n",
       "2    1328\n",
       "1     300\n",
       "Name: armed, dtype: int64"
      ]
     },
     "metadata": {},
     "execution_count": 38
    }
   ],
   "source": [
    "# Target occurance\n",
    "target.value_counts()"
   ]
  },
  {
   "cell_type": "code",
   "execution_count": 41,
   "metadata": {},
   "outputs": [
    {
     "output_type": "stream",
     "name": "stdout",
     "text": [
      "Epoch 1/20\n",
      "131/131 [==============================] - 1s 1ms/step - loss: 1.6803 - accuracy: 0.4502\n",
      "Epoch 2/20\n",
      "131/131 [==============================] - 0s 1ms/step - loss: 0.8546 - accuracy: 0.6072\n",
      "Epoch 3/20\n",
      "131/131 [==============================] - 0s 1ms/step - loss: 0.8182 - accuracy: 0.6345\n",
      "Epoch 4/20\n",
      "131/131 [==============================] - 0s 1ms/step - loss: 0.7980 - accuracy: 0.6522\n",
      "Epoch 5/20\n",
      "131/131 [==============================] - 0s 1ms/step - loss: 0.7895 - accuracy: 0.6629\n",
      "Epoch 6/20\n",
      "131/131 [==============================] - 0s 1ms/step - loss: 0.7819 - accuracy: 0.6616\n",
      "Epoch 7/20\n",
      "131/131 [==============================] - 0s 2ms/step - loss: 0.7862 - accuracy: 0.6647\n",
      "Epoch 8/20\n",
      "131/131 [==============================] - 0s 2ms/step - loss: 0.7626 - accuracy: 0.6890\n",
      "Epoch 9/20\n",
      "131/131 [==============================] - 0s 1ms/step - loss: 0.7861 - accuracy: 0.6578\n",
      "Epoch 10/20\n",
      "131/131 [==============================] - 0s 1ms/step - loss: 0.7953 - accuracy: 0.6588\n",
      "Epoch 11/20\n",
      "131/131 [==============================] - 0s 1ms/step - loss: 0.7839 - accuracy: 0.6675\n",
      "Epoch 12/20\n",
      "131/131 [==============================] - 0s 1ms/step - loss: 0.7745 - accuracy: 0.6727\n",
      "Epoch 13/20\n",
      "131/131 [==============================] - 0s 2ms/step - loss: 0.7761 - accuracy: 0.6610\n",
      "Epoch 14/20\n",
      "131/131 [==============================] - 0s 3ms/step - loss: 0.7705 - accuracy: 0.6728\n",
      "Epoch 15/20\n",
      "131/131 [==============================] - 1s 5ms/step - loss: 0.7796 - accuracy: 0.6688\n",
      "Epoch 16/20\n",
      "131/131 [==============================] - 0s 2ms/step - loss: 0.7853 - accuracy: 0.6611\n",
      "Epoch 17/20\n",
      "131/131 [==============================] - 0s 1ms/step - loss: 0.7572 - accuracy: 0.6728\n",
      "Epoch 18/20\n",
      "131/131 [==============================] - 0s 2ms/step - loss: 0.7672 - accuracy: 0.6719\n",
      "Epoch 19/20\n",
      "131/131 [==============================] - 0s 1ms/step - loss: 0.7622 - accuracy: 0.6752\n",
      "Epoch 20/20\n",
      "131/131 [==============================] - 0s 1ms/step - loss: 0.7768 - accuracy: 0.6640\n"
     ]
    },
    {
     "output_type": "execute_result",
     "data": {
      "text/plain": [
       "<tensorflow.python.keras.callbacks.History at 0x7fec41f88c10>"
      ]
     },
     "metadata": {},
     "execution_count": 41
    }
   ],
   "source": [
    "# Model structure\n",
    "model = tf.keras.Sequential([\n",
    "    # First HL\n",
    "    tf.keras.layers.Dense(15, activation='relu'),\n",
    "    # Second HL\n",
    "    tf.keras.layers.Dense(30, activation='relu'),\n",
    "    # Thired HL\n",
    "    tf.keras.layers.Dense(15, activation='relu'),\n",
    "    # Output\n",
    "    tf.keras.layers.Dense(3, activation='softmax')\n",
    "]) \n",
    "\n",
    "\n",
    "# Compile\n",
    "model.compile(optimizer='adam',\n",
    "              loss=tf.keras.losses.SparseCategoricalCrossentropy(from_logits=True),\n",
    "              metrics=['accuracy'])\n",
    "\n",
    "\n",
    "\n",
    "# Data\n",
    "model.fit(features, target, epochs=20,batch_size=32)"
   ]
  },
  {
   "cell_type": "code",
   "execution_count": 44,
   "metadata": {},
   "outputs": [],
   "source": [
    "X_train, X_test, y_train, y_test = train_test_split(features, target, test_size=0.3, random_state=0)"
   ]
  },
  {
   "source": [
    "# Function NN"
   ],
   "cell_type": "markdown",
   "metadata": {}
  },
  {
   "source": [
    "# Train"
   ],
   "cell_type": "markdown",
   "metadata": {}
  },
  {
   "cell_type": "code",
   "execution_count": 47,
   "metadata": {},
   "outputs": [],
   "source": [
    "def train_NN(features_train, target_train, activation, epochs, batch_size, nb_HL, nb_neurones):\n",
    "    \n",
    "    \n",
    "    # Def HL\n",
    "    \n",
    "    stock_HL_output = []\n",
    "    for i in range(0, nb_HL):\n",
    "        HL = tf.keras.layers.Dense(nb_neurones, activation=activation)\n",
    "        stock_HL_output.append(HL)\n",
    "        \n",
    "        \n",
    "    # Output\n",
    "    output = tf.keras.layers.Dense(3, activation='softmax')\n",
    "    stock_HL_output.append(output)\n",
    "        \n",
    "        \n",
    "\n",
    "    # Model structure\n",
    "    model = tf.keras.Sequential(stock_HL_output) \n",
    "        \n",
    "\n",
    "\n",
    "    # Compile\n",
    "    model.compile(optimizer='adam',\n",
    "              loss=tf.keras.losses.SparseCategoricalCrossentropy(from_logits=True),\n",
    "              metrics=['accuracy'])\n",
    "\n",
    "\n",
    "    # Data\n",
    "    model.fit(features_train, target_train, epochs=epochs, batch_size=batch_size,verbose=0)\n",
    "    \n",
    "    return model "
   ]
  },
  {
   "cell_type": "code",
   "execution_count": 50,
   "metadata": {},
   "outputs": [],
   "source": [
    "model_train = train_NN(features_train = features, target_train = target,batch_size = int(X_train.shape[0]/10), \n",
    "                       activation = 'sigmoid', \n",
    "                       epochs = 20, \n",
    "                       nb_HL = 4, \n",
    "                       nb_neurones = 10)"
   ]
  },
  {
   "source": [
    "# Test"
   ],
   "cell_type": "markdown",
   "metadata": {}
  },
  {
   "cell_type": "code",
   "execution_count": 53,
   "metadata": {},
   "outputs": [],
   "source": [
    "def test_NN(features_test, target_test, model):\n",
    "    \n",
    "    test_loss, test_acc = model.evaluate(features_test,  target_test, verbose = 0)\n",
    "\n",
    "    \n",
    "    return {\"Loss\":test_loss, \"Accuracy\":test_acc}"
   ]
  },
  {
   "cell_type": "code",
   "execution_count": 56,
   "metadata": {},
   "outputs": [],
   "source": [
    "model_tested = test_NN(features_test = X_test , target_test = y_test, model = model_train)"
   ]
  },
  {
   "cell_type": "code",
   "execution_count": 59,
   "metadata": {},
   "outputs": [
    {
     "output_type": "execute_result",
     "data": {
      "text/plain": [
       "{'Loss': 0.8508785367012024, 'Accuracy': 0.6199203133583069}"
      ]
     },
     "metadata": {},
     "execution_count": 59
    }
   ],
   "source": [
    "model_tested"
   ]
  },
  {
   "cell_type": "code",
   "execution_count": 62,
   "metadata": {},
   "outputs": [
    {
     "output_type": "execute_result",
     "data": {
      "text/plain": [
       "0.6199203133583069"
      ]
     },
     "metadata": {},
     "execution_count": 62
    }
   ],
   "source": [
    "model_tested.get(\"Accuracy\")"
   ]
  },
  {
   "source": [
    "# Grid search"
   ],
   "cell_type": "markdown",
   "metadata": {}
  },
  {
   "cell_type": "code",
   "execution_count": 65,
   "metadata": {},
   "outputs": [],
   "source": [
    "# Define our grid\n",
    "grid_activation = [\"relu\", \"sigmoid\"]\n",
    "grid_epochs = [10]\n",
    "grid_nb_HL = [1,2]\n",
    "nb_neurones =  [5]"
   ]
  },
  {
   "cell_type": "code",
   "execution_count": 68,
   "metadata": {},
   "outputs": [],
   "source": [
    "# define Grid search\n",
    "def grid_search(features_train, target_train, features_test, target_test, grid_activation, grid_epochs, grid_nb_HL, nb_neurones):\n",
    "    # Create the np ndarray in order to stock meta-parameters associated to its accuracy\n",
    "\n",
    "    stock_activation = []\n",
    "    stock_epochs = []\n",
    "    stock_nb_HL = []\n",
    "    stock_neurones = []\n",
    "    stock_accuracy = []\n",
    "\n",
    "    increment = -1\n",
    "    for activation in grid_activation:\n",
    "        for nb_epoch in grid_epochs:\n",
    "            for nb_HL in grid_nb_HL:\n",
    "                for neurone in nb_neurones:\n",
    "\n",
    "                    increment += 1\n",
    "\n",
    "                    # train the model\n",
    "                    model_trained = train_NN(features_train = features_train, target_train = target_train, batch_size = int(X_train.shape[0]/10), \n",
    "                           activation = activation, \n",
    "                           epochs = nb_epoch, \n",
    "                           nb_HL = nb_HL, \n",
    "                           nb_neurones = neurone)\n",
    "\n",
    "\n",
    "\n",
    "                    # test the modle on the test set\n",
    "                    model_tested = test_NN(features_test = features_test , target_test = target_test, model = model_trained)\n",
    "\n",
    "\n",
    "\n",
    "                    stock_activation.append(activation) \n",
    "                    stock_epochs.append(nb_epoch)\n",
    "                    stock_nb_HL.append(nb_HL) \n",
    "                    stock_neurones.append(neurone) \n",
    "                    stock_accuracy.append(model_tested.get(\"Accuracy\")) \n",
    "                    \n",
    "                    \n",
    "    # trnasform list into np array\n",
    "    stock_activation = np.array([stock_activation]).T\n",
    "    stock_epochs = np.array([stock_epochs]).T\n",
    "    stock_nb_HL = np.array([stock_nb_HL]).T\n",
    "    stock_neurones = np.array([stock_neurones]).T\n",
    "    stock_accuracy = np.array([stock_accuracy]).T\n",
    "    \n",
    "    result_grid_search = np.concatenate((stock_activation, stock_epochs,stock_nb_HL,stock_neurones,stock_accuracy), axis=1)\n",
    "    \n",
    "                    \n",
    "                    \n",
    "                    \n",
    "    return result_grid_search"
   ]
  },
  {
   "cell_type": "code",
   "execution_count": 71,
   "metadata": {},
   "outputs": [],
   "source": [
    "result_grid_search = grid_search(features_train = X_train, target_train = y_train, features_test = X_test, \n",
    "                                 target_test = y_test, grid_activation = grid_activation, grid_epochs = grid_epochs, \n",
    "            grid_nb_HL = grid_nb_HL, nb_neurones = nb_neurones)"
   ]
  },
  {
   "cell_type": "code",
   "execution_count": 74,
   "metadata": {},
   "outputs": [
    {
     "output_type": "execute_result",
     "data": {
      "text/plain": [
       "array([['relu', '10', '1', '5', '0.572908341884613'],\n",
       "       ['relu', '10', '2', '5', '0.6199203133583069'],\n",
       "       ['sigmoid', '10', '1', '5', '0.6199203133583069'],\n",
       "       ['sigmoid', '10', '2', '5', '0.6199203133583069']], dtype='<U32')"
      ]
     },
     "metadata": {},
     "execution_count": 74
    }
   ],
   "source": [
    "result_grid_search"
   ]
  },
  {
   "cell_type": "code",
   "execution_count": 77,
   "metadata": {},
   "outputs": [
    {
     "output_type": "execute_result",
     "data": {
      "text/plain": [
       "         0   1  2  3                   4\n",
       "0     relu  10  1  5   0.572908341884613\n",
       "1     relu  10  2  5  0.6199203133583069\n",
       "2  sigmoid  10  1  5  0.6199203133583069\n",
       "3  sigmoid  10  2  5  0.6199203133583069"
      ],
      "text/html": "<div>\n<style scoped>\n    .dataframe tbody tr th:only-of-type {\n        vertical-align: middle;\n    }\n\n    .dataframe tbody tr th {\n        vertical-align: top;\n    }\n\n    .dataframe thead th {\n        text-align: right;\n    }\n</style>\n<table border=\"1\" class=\"dataframe\">\n  <thead>\n    <tr style=\"text-align: right;\">\n      <th></th>\n      <th>0</th>\n      <th>1</th>\n      <th>2</th>\n      <th>3</th>\n      <th>4</th>\n    </tr>\n  </thead>\n  <tbody>\n    <tr>\n      <th>0</th>\n      <td>relu</td>\n      <td>10</td>\n      <td>1</td>\n      <td>5</td>\n      <td>0.572908341884613</td>\n    </tr>\n    <tr>\n      <th>1</th>\n      <td>relu</td>\n      <td>10</td>\n      <td>2</td>\n      <td>5</td>\n      <td>0.6199203133583069</td>\n    </tr>\n    <tr>\n      <th>2</th>\n      <td>sigmoid</td>\n      <td>10</td>\n      <td>1</td>\n      <td>5</td>\n      <td>0.6199203133583069</td>\n    </tr>\n    <tr>\n      <th>3</th>\n      <td>sigmoid</td>\n      <td>10</td>\n      <td>2</td>\n      <td>5</td>\n      <td>0.6199203133583069</td>\n    </tr>\n  </tbody>\n</table>\n</div>"
     },
     "metadata": {},
     "execution_count": 77
    }
   ],
   "source": [
    "# Transform np array to a pd dataframe\n",
    "pandas_df = pd.DataFrame(result_grid_search)\n",
    "pandas_df"
   ]
  },
  {
   "cell_type": "code",
   "execution_count": 80,
   "metadata": {},
   "outputs": [],
   "source": [
    "# Sort the pd dataframe by the accuracy colmun in a ascending order.\n",
    "pandas_df.sort_values(by=[4], inplace=True, ascending=False)"
   ]
  },
  {
   "cell_type": "code",
   "execution_count": 83,
   "metadata": {},
   "outputs": [
    {
     "output_type": "execute_result",
     "data": {
      "text/plain": [
       "         0   1  2  3                   4\n",
       "1     relu  10  2  5  0.6199203133583069\n",
       "2  sigmoid  10  1  5  0.6199203133583069\n",
       "3  sigmoid  10  2  5  0.6199203133583069\n",
       "0     relu  10  1  5   0.572908341884613"
      ],
      "text/html": "<div>\n<style scoped>\n    .dataframe tbody tr th:only-of-type {\n        vertical-align: middle;\n    }\n\n    .dataframe tbody tr th {\n        vertical-align: top;\n    }\n\n    .dataframe thead th {\n        text-align: right;\n    }\n</style>\n<table border=\"1\" class=\"dataframe\">\n  <thead>\n    <tr style=\"text-align: right;\">\n      <th></th>\n      <th>0</th>\n      <th>1</th>\n      <th>2</th>\n      <th>3</th>\n      <th>4</th>\n    </tr>\n  </thead>\n  <tbody>\n    <tr>\n      <th>1</th>\n      <td>relu</td>\n      <td>10</td>\n      <td>2</td>\n      <td>5</td>\n      <td>0.6199203133583069</td>\n    </tr>\n    <tr>\n      <th>2</th>\n      <td>sigmoid</td>\n      <td>10</td>\n      <td>1</td>\n      <td>5</td>\n      <td>0.6199203133583069</td>\n    </tr>\n    <tr>\n      <th>3</th>\n      <td>sigmoid</td>\n      <td>10</td>\n      <td>2</td>\n      <td>5</td>\n      <td>0.6199203133583069</td>\n    </tr>\n    <tr>\n      <th>0</th>\n      <td>relu</td>\n      <td>10</td>\n      <td>1</td>\n      <td>5</td>\n      <td>0.572908341884613</td>\n    </tr>\n  </tbody>\n</table>\n</div>"
     },
     "metadata": {},
     "execution_count": 83
    }
   ],
   "source": [
    "pandas_df"
   ]
  },
  {
   "source": [
    "# Test other grid search"
   ],
   "cell_type": "markdown",
   "metadata": {}
  },
  {
   "cell_type": "code",
   "execution_count": 86,
   "metadata": {},
   "outputs": [],
   "source": [
    "# Define our grid\n",
    "grid_activation1 = [\"relu\", \"sigmoid\"]\n",
    "grid_epochs1 = [30]\n",
    "grid_nb_HL1 = [3,4]\n",
    "nb_neurones1 =  [7]"
   ]
  },
  {
   "cell_type": "code",
   "execution_count": 89,
   "metadata": {},
   "outputs": [],
   "source": [
    "# define Grid search\n",
    "def grid_search(features_train, target_train, features_test, target_test, grid_activation1, grid_epochs1, grid_nb_HL1, nb_neurones1):\n",
    "    # Create the np ndarray in order to stock meta-parameters associated to its accuracy\n",
    "\n",
    "    stock_activation = []\n",
    "    stock_epochs = []\n",
    "    stock_nb_HL = []\n",
    "    stock_neurones = []\n",
    "    stock_accuracy = []\n",
    "\n",
    "    increment = -1\n",
    "    for activation in grid_activation1:\n",
    "        for nb_epoch in grid_epochs1:\n",
    "            for nb_HL in grid_nb_HL1:\n",
    "                for neurone in nb_neurones1:\n",
    "\n",
    "                    increment += 1\n",
    "\n",
    "                    # train the model\n",
    "                    model_trained = train_NN(features_train = features_train, target_train = target_train, batch_size = int(X_train.shape[0]/10), \n",
    "                           activation = activation, \n",
    "                           epochs = nb_epoch, \n",
    "                           nb_HL = nb_HL, \n",
    "                           nb_neurones = neurone)\n",
    "\n",
    "\n",
    "\n",
    "                    # test the modle on the test set\n",
    "                    model_tested = test_NN(features_test = features_test , target_test = target_test, model = model_trained)\n",
    "\n",
    "\n",
    "\n",
    "                    stock_activation.append(activation) \n",
    "                    stock_epochs.append(nb_epoch)\n",
    "                    stock_nb_HL.append(nb_HL) \n",
    "                    stock_neurones.append(neurone) \n",
    "                    stock_accuracy.append(model_tested.get(\"Accuracy\")) \n",
    "                    \n",
    "                    \n",
    "    # trnasform list into np array\n",
    "    stock_activation = np.array([stock_activation]).T\n",
    "    stock_epochs = np.array([stock_epochs]).T\n",
    "    stock_nb_HL = np.array([stock_nb_HL]).T\n",
    "    stock_neurones = np.array([stock_neurones]).T\n",
    "    stock_accuracy = np.array([stock_accuracy]).T\n",
    "    \n",
    "    result_grid_search = np.concatenate((stock_activation, stock_epochs,stock_nb_HL,stock_neurones,stock_accuracy), axis=1)\n",
    "    \n",
    "                    \n",
    "                    \n",
    "                    \n",
    "    return result_grid_search"
   ]
  },
  {
   "cell_type": "code",
   "execution_count": 92,
   "metadata": {},
   "outputs": [],
   "source": [
    "result_grid_search1 = grid_search(features_train = X_train, target_train = y_train, features_test = X_test, \n",
    "                                 target_test = y_test, grid_activation1 = grid_activation1, grid_epochs1 = grid_epochs1, \n",
    "            grid_nb_HL1 = grid_nb_HL1, nb_neurones1 = nb_neurones1)"
   ]
  },
  {
   "cell_type": "code",
   "execution_count": 95,
   "metadata": {},
   "outputs": [
    {
     "output_type": "execute_result",
     "data": {
      "text/plain": [
       "         0   1  2  3                   4\n",
       "1     relu  10  2  5  0.6199203133583069\n",
       "2  sigmoid  10  1  5  0.6199203133583069\n",
       "3  sigmoid  10  2  5  0.6199203133583069\n",
       "0     relu  10  1  5   0.572908341884613"
      ],
      "text/html": "<div>\n<style scoped>\n    .dataframe tbody tr th:only-of-type {\n        vertical-align: middle;\n    }\n\n    .dataframe tbody tr th {\n        vertical-align: top;\n    }\n\n    .dataframe thead th {\n        text-align: right;\n    }\n</style>\n<table border=\"1\" class=\"dataframe\">\n  <thead>\n    <tr style=\"text-align: right;\">\n      <th></th>\n      <th>0</th>\n      <th>1</th>\n      <th>2</th>\n      <th>3</th>\n      <th>4</th>\n    </tr>\n  </thead>\n  <tbody>\n    <tr>\n      <th>1</th>\n      <td>relu</td>\n      <td>10</td>\n      <td>2</td>\n      <td>5</td>\n      <td>0.6199203133583069</td>\n    </tr>\n    <tr>\n      <th>2</th>\n      <td>sigmoid</td>\n      <td>10</td>\n      <td>1</td>\n      <td>5</td>\n      <td>0.6199203133583069</td>\n    </tr>\n    <tr>\n      <th>3</th>\n      <td>sigmoid</td>\n      <td>10</td>\n      <td>2</td>\n      <td>5</td>\n      <td>0.6199203133583069</td>\n    </tr>\n    <tr>\n      <th>0</th>\n      <td>relu</td>\n      <td>10</td>\n      <td>1</td>\n      <td>5</td>\n      <td>0.572908341884613</td>\n    </tr>\n  </tbody>\n</table>\n</div>"
     },
     "metadata": {},
     "execution_count": 95
    }
   ],
   "source": [
    "# Transform np array to a pd dataframe\n",
    "pandas_df1 = pd.DataFrame(result_grid_search1)\n",
    "pandas_df"
   ]
  },
  {
   "cell_type": "code",
   "execution_count": 98,
   "metadata": {},
   "outputs": [],
   "source": [
    "# Sort the pd dataframe by the accuracy colmun in a ascending order.\n",
    "pandas_df1.sort_values(by=[4], inplace=True, ascending=False)"
   ]
  },
  {
   "cell_type": "code",
   "execution_count": 101,
   "metadata": {},
   "outputs": [
    {
     "output_type": "execute_result",
     "data": {
      "text/plain": [
       "         0   1  2  3                   4\n",
       "1     relu  30  4  7  0.6199203133583069\n",
       "2  sigmoid  30  3  7  0.6199203133583069\n",
       "3  sigmoid  30  4  7  0.6199203133583069\n",
       "0     relu  30  3  7  0.6079681515693665"
      ],
      "text/html": "<div>\n<style scoped>\n    .dataframe tbody tr th:only-of-type {\n        vertical-align: middle;\n    }\n\n    .dataframe tbody tr th {\n        vertical-align: top;\n    }\n\n    .dataframe thead th {\n        text-align: right;\n    }\n</style>\n<table border=\"1\" class=\"dataframe\">\n  <thead>\n    <tr style=\"text-align: right;\">\n      <th></th>\n      <th>0</th>\n      <th>1</th>\n      <th>2</th>\n      <th>3</th>\n      <th>4</th>\n    </tr>\n  </thead>\n  <tbody>\n    <tr>\n      <th>1</th>\n      <td>relu</td>\n      <td>30</td>\n      <td>4</td>\n      <td>7</td>\n      <td>0.6199203133583069</td>\n    </tr>\n    <tr>\n      <th>2</th>\n      <td>sigmoid</td>\n      <td>30</td>\n      <td>3</td>\n      <td>7</td>\n      <td>0.6199203133583069</td>\n    </tr>\n    <tr>\n      <th>3</th>\n      <td>sigmoid</td>\n      <td>30</td>\n      <td>4</td>\n      <td>7</td>\n      <td>0.6199203133583069</td>\n    </tr>\n    <tr>\n      <th>0</th>\n      <td>relu</td>\n      <td>30</td>\n      <td>3</td>\n      <td>7</td>\n      <td>0.6079681515693665</td>\n    </tr>\n  </tbody>\n</table>\n</div>"
     },
     "metadata": {},
     "execution_count": 101
    }
   ],
   "source": [
    "pandas_df1"
   ]
  },
  {
   "source": [
    "# Train NN based on \"Best\" meta-parameters"
   ],
   "cell_type": "markdown",
   "metadata": {}
  },
  {
   "cell_type": "code",
   "execution_count": 104,
   "metadata": {},
   "outputs": [
    {
     "output_type": "execute_result",
     "data": {
      "text/plain": [
       "['relu', '30', '4', '7']"
      ]
     },
     "metadata": {},
     "execution_count": 104
    }
   ],
   "source": [
    "best_meta_parameters = list(pandas_df1.iloc[0,0:4])\n",
    "best_meta_parameters"
   ]
  },
  {
   "cell_type": "code",
   "execution_count": 107,
   "metadata": {},
   "outputs": [],
   "source": [
    "# Train our final NN with our \"best\" meta-parameters\n",
    "model_train = train_NN(features_train = features, target_train = target, batch_size = int(X_train.shape[0]/10), \n",
    "                       activation = best_meta_parameters[0], \n",
    "                       epochs = int(best_meta_parameters[1]), \n",
    "                       nb_HL = int(best_meta_parameters[2]), \n",
    "                       nb_neurones = int(best_meta_parameters[3]))"
   ]
  },
  {
   "cell_type": "code",
   "execution_count": 110,
   "metadata": {},
   "outputs": [
    {
     "output_type": "execute_result",
     "data": {
      "text/plain": [
       "<tensorflow.python.keras.engine.sequential.Sequential at 0x7fec28690890>"
      ]
     },
     "metadata": {},
     "execution_count": 110
    }
   ],
   "source": [
    "model_train"
   ]
  },
  {
   "cell_type": "code",
   "execution_count": 113,
   "metadata": {},
   "outputs": [],
   "source": [
    "lst = [[25, \"M\", \"H\", False, \"other\", \"Car\", False], [55, \"F\", \"W\", True, \"attack\", \"Not fleeing\", False]]\n",
    "    \n",
    "new_instance = pd.DataFrame(lst, columns = [\"age\", \"gender\", \"race\", \"signs_of_mental_illness\", \"threat_level\",  \"flee\", \"body_camera\"])\n",
    "new_instance\n",
    "\n",
    "# Add new instances to features_row\n",
    "new_and_trained = pd.concat([new_instance, features_row], ignore_index=True)\n"
   ]
  },
  {
   "cell_type": "code",
   "execution_count": 116,
   "metadata": {},
   "outputs": [
    {
     "output_type": "execute_result",
     "data": {
      "text/plain": [
       "       age gender race  signs_of_mental_illness threat_level         flee  \\\n",
       "0     25.0      M    H                    False        other          Car   \n",
       "1     55.0      F    W                     True       attack  Not fleeing   \n",
       "2     53.0      M    A                     True       attack  Not fleeing   \n",
       "3     47.0      M    W                    False       attack  Not fleeing   \n",
       "4     23.0      M    H                    False        other  Not fleeing   \n",
       "...    ...    ...  ...                      ...          ...          ...   \n",
       "4178  27.0      M    B                    False       attack         Foot   \n",
       "4179  23.0      M    B                    False       attack          Car   \n",
       "4180  25.0      F    W                    False        other  Not fleeing   \n",
       "4181  22.0      M    W                    False        other        Other   \n",
       "4182  31.0      M    W                    False       attack          Car   \n",
       "\n",
       "      body_camera  \n",
       "0           False  \n",
       "1           False  \n",
       "2           False  \n",
       "3           False  \n",
       "4           False  \n",
       "...           ...  \n",
       "4178         True  \n",
       "4179        False  \n",
       "4180        False  \n",
       "4181        False  \n",
       "4182        False  \n",
       "\n",
       "[4183 rows x 7 columns]"
      ],
      "text/html": "<div>\n<style scoped>\n    .dataframe tbody tr th:only-of-type {\n        vertical-align: middle;\n    }\n\n    .dataframe tbody tr th {\n        vertical-align: top;\n    }\n\n    .dataframe thead th {\n        text-align: right;\n    }\n</style>\n<table border=\"1\" class=\"dataframe\">\n  <thead>\n    <tr style=\"text-align: right;\">\n      <th></th>\n      <th>age</th>\n      <th>gender</th>\n      <th>race</th>\n      <th>signs_of_mental_illness</th>\n      <th>threat_level</th>\n      <th>flee</th>\n      <th>body_camera</th>\n    </tr>\n  </thead>\n  <tbody>\n    <tr>\n      <th>0</th>\n      <td>25.0</td>\n      <td>M</td>\n      <td>H</td>\n      <td>False</td>\n      <td>other</td>\n      <td>Car</td>\n      <td>False</td>\n    </tr>\n    <tr>\n      <th>1</th>\n      <td>55.0</td>\n      <td>F</td>\n      <td>W</td>\n      <td>True</td>\n      <td>attack</td>\n      <td>Not fleeing</td>\n      <td>False</td>\n    </tr>\n    <tr>\n      <th>2</th>\n      <td>53.0</td>\n      <td>M</td>\n      <td>A</td>\n      <td>True</td>\n      <td>attack</td>\n      <td>Not fleeing</td>\n      <td>False</td>\n    </tr>\n    <tr>\n      <th>3</th>\n      <td>47.0</td>\n      <td>M</td>\n      <td>W</td>\n      <td>False</td>\n      <td>attack</td>\n      <td>Not fleeing</td>\n      <td>False</td>\n    </tr>\n    <tr>\n      <th>4</th>\n      <td>23.0</td>\n      <td>M</td>\n      <td>H</td>\n      <td>False</td>\n      <td>other</td>\n      <td>Not fleeing</td>\n      <td>False</td>\n    </tr>\n    <tr>\n      <th>...</th>\n      <td>...</td>\n      <td>...</td>\n      <td>...</td>\n      <td>...</td>\n      <td>...</td>\n      <td>...</td>\n      <td>...</td>\n    </tr>\n    <tr>\n      <th>4178</th>\n      <td>27.0</td>\n      <td>M</td>\n      <td>B</td>\n      <td>False</td>\n      <td>attack</td>\n      <td>Foot</td>\n      <td>True</td>\n    </tr>\n    <tr>\n      <th>4179</th>\n      <td>23.0</td>\n      <td>M</td>\n      <td>B</td>\n      <td>False</td>\n      <td>attack</td>\n      <td>Car</td>\n      <td>False</td>\n    </tr>\n    <tr>\n      <th>4180</th>\n      <td>25.0</td>\n      <td>F</td>\n      <td>W</td>\n      <td>False</td>\n      <td>other</td>\n      <td>Not fleeing</td>\n      <td>False</td>\n    </tr>\n    <tr>\n      <th>4181</th>\n      <td>22.0</td>\n      <td>M</td>\n      <td>W</td>\n      <td>False</td>\n      <td>other</td>\n      <td>Other</td>\n      <td>False</td>\n    </tr>\n    <tr>\n      <th>4182</th>\n      <td>31.0</td>\n      <td>M</td>\n      <td>W</td>\n      <td>False</td>\n      <td>attack</td>\n      <td>Car</td>\n      <td>False</td>\n    </tr>\n  </tbody>\n</table>\n<p>4183 rows × 7 columns</p>\n</div>"
     },
     "metadata": {},
     "execution_count": 116
    }
   ],
   "source": [
    "new_and_trained"
   ]
  },
  {
   "cell_type": "code",
   "execution_count": 119,
   "metadata": {},
   "outputs": [
    {
     "output_type": "execute_result",
     "data": {
      "text/plain": [
       "       age  gender_F  gender_M  race_A  race_B  race_H  race_N  race_O  \\\n",
       "0     25.0         0         1       0       0       1       0       0   \n",
       "1     55.0         1         0       0       0       0       0       0   \n",
       "2     53.0         0         1       1       0       0       0       0   \n",
       "3     47.0         0         1       0       0       0       0       0   \n",
       "4     23.0         0         1       0       0       1       0       0   \n",
       "...    ...       ...       ...     ...     ...     ...     ...     ...   \n",
       "4178  27.0         0         1       0       1       0       0       0   \n",
       "4179  23.0         0         1       0       1       0       0       0   \n",
       "4180  25.0         1         0       0       0       0       0       0   \n",
       "4181  22.0         0         1       0       0       0       0       0   \n",
       "4182  31.0         0         1       0       0       0       0       0   \n",
       "\n",
       "      race_W  signs_of_mental_illness_False  signs_of_mental_illness_True  \\\n",
       "0          0                              1                             0   \n",
       "1          1                              0                             1   \n",
       "2          0                              0                             1   \n",
       "3          1                              1                             0   \n",
       "4          0                              1                             0   \n",
       "...      ...                            ...                           ...   \n",
       "4178       0                              1                             0   \n",
       "4179       0                              1                             0   \n",
       "4180       1                              1                             0   \n",
       "4181       1                              1                             0   \n",
       "4182       1                              1                             0   \n",
       "\n",
       "      threat_level_attack  threat_level_other  flee_Car  flee_Foot  \\\n",
       "0                       0                   1         1          0   \n",
       "1                       1                   0         0          0   \n",
       "2                       1                   0         0          0   \n",
       "3                       1                   0         0          0   \n",
       "4                       0                   1         0          0   \n",
       "...                   ...                 ...       ...        ...   \n",
       "4178                    1                   0         0          1   \n",
       "4179                    1                   0         1          0   \n",
       "4180                    0                   1         0          0   \n",
       "4181                    0                   1         0          0   \n",
       "4182                    1                   0         1          0   \n",
       "\n",
       "      flee_Not fleeing  flee_Other  body_camera_False  body_camera_True  \n",
       "0                    0           0                  1                 0  \n",
       "1                    1           0                  1                 0  \n",
       "2                    1           0                  1                 0  \n",
       "3                    1           0                  1                 0  \n",
       "4                    1           0                  1                 0  \n",
       "...                ...         ...                ...               ...  \n",
       "4178                 0           0                  0                 1  \n",
       "4179                 0           0                  1                 0  \n",
       "4180                 1           0                  1                 0  \n",
       "4181                 0           1                  1                 0  \n",
       "4182                 0           0                  1                 0  \n",
       "\n",
       "[4183 rows x 19 columns]"
      ],
      "text/html": "<div>\n<style scoped>\n    .dataframe tbody tr th:only-of-type {\n        vertical-align: middle;\n    }\n\n    .dataframe tbody tr th {\n        vertical-align: top;\n    }\n\n    .dataframe thead th {\n        text-align: right;\n    }\n</style>\n<table border=\"1\" class=\"dataframe\">\n  <thead>\n    <tr style=\"text-align: right;\">\n      <th></th>\n      <th>age</th>\n      <th>gender_F</th>\n      <th>gender_M</th>\n      <th>race_A</th>\n      <th>race_B</th>\n      <th>race_H</th>\n      <th>race_N</th>\n      <th>race_O</th>\n      <th>race_W</th>\n      <th>signs_of_mental_illness_False</th>\n      <th>signs_of_mental_illness_True</th>\n      <th>threat_level_attack</th>\n      <th>threat_level_other</th>\n      <th>flee_Car</th>\n      <th>flee_Foot</th>\n      <th>flee_Not fleeing</th>\n      <th>flee_Other</th>\n      <th>body_camera_False</th>\n      <th>body_camera_True</th>\n    </tr>\n  </thead>\n  <tbody>\n    <tr>\n      <th>0</th>\n      <td>25.0</td>\n      <td>0</td>\n      <td>1</td>\n      <td>0</td>\n      <td>0</td>\n      <td>1</td>\n      <td>0</td>\n      <td>0</td>\n      <td>0</td>\n      <td>1</td>\n      <td>0</td>\n      <td>0</td>\n      <td>1</td>\n      <td>1</td>\n      <td>0</td>\n      <td>0</td>\n      <td>0</td>\n      <td>1</td>\n      <td>0</td>\n    </tr>\n    <tr>\n      <th>1</th>\n      <td>55.0</td>\n      <td>1</td>\n      <td>0</td>\n      <td>0</td>\n      <td>0</td>\n      <td>0</td>\n      <td>0</td>\n      <td>0</td>\n      <td>1</td>\n      <td>0</td>\n      <td>1</td>\n      <td>1</td>\n      <td>0</td>\n      <td>0</td>\n      <td>0</td>\n      <td>1</td>\n      <td>0</td>\n      <td>1</td>\n      <td>0</td>\n    </tr>\n    <tr>\n      <th>2</th>\n      <td>53.0</td>\n      <td>0</td>\n      <td>1</td>\n      <td>1</td>\n      <td>0</td>\n      <td>0</td>\n      <td>0</td>\n      <td>0</td>\n      <td>0</td>\n      <td>0</td>\n      <td>1</td>\n      <td>1</td>\n      <td>0</td>\n      <td>0</td>\n      <td>0</td>\n      <td>1</td>\n      <td>0</td>\n      <td>1</td>\n      <td>0</td>\n    </tr>\n    <tr>\n      <th>3</th>\n      <td>47.0</td>\n      <td>0</td>\n      <td>1</td>\n      <td>0</td>\n      <td>0</td>\n      <td>0</td>\n      <td>0</td>\n      <td>0</td>\n      <td>1</td>\n      <td>1</td>\n      <td>0</td>\n      <td>1</td>\n      <td>0</td>\n      <td>0</td>\n      <td>0</td>\n      <td>1</td>\n      <td>0</td>\n      <td>1</td>\n      <td>0</td>\n    </tr>\n    <tr>\n      <th>4</th>\n      <td>23.0</td>\n      <td>0</td>\n      <td>1</td>\n      <td>0</td>\n      <td>0</td>\n      <td>1</td>\n      <td>0</td>\n      <td>0</td>\n      <td>0</td>\n      <td>1</td>\n      <td>0</td>\n      <td>0</td>\n      <td>1</td>\n      <td>0</td>\n      <td>0</td>\n      <td>1</td>\n      <td>0</td>\n      <td>1</td>\n      <td>0</td>\n    </tr>\n    <tr>\n      <th>...</th>\n      <td>...</td>\n      <td>...</td>\n      <td>...</td>\n      <td>...</td>\n      <td>...</td>\n      <td>...</td>\n      <td>...</td>\n      <td>...</td>\n      <td>...</td>\n      <td>...</td>\n      <td>...</td>\n      <td>...</td>\n      <td>...</td>\n      <td>...</td>\n      <td>...</td>\n      <td>...</td>\n      <td>...</td>\n      <td>...</td>\n      <td>...</td>\n    </tr>\n    <tr>\n      <th>4178</th>\n      <td>27.0</td>\n      <td>0</td>\n      <td>1</td>\n      <td>0</td>\n      <td>1</td>\n      <td>0</td>\n      <td>0</td>\n      <td>0</td>\n      <td>0</td>\n      <td>1</td>\n      <td>0</td>\n      <td>1</td>\n      <td>0</td>\n      <td>0</td>\n      <td>1</td>\n      <td>0</td>\n      <td>0</td>\n      <td>0</td>\n      <td>1</td>\n    </tr>\n    <tr>\n      <th>4179</th>\n      <td>23.0</td>\n      <td>0</td>\n      <td>1</td>\n      <td>0</td>\n      <td>1</td>\n      <td>0</td>\n      <td>0</td>\n      <td>0</td>\n      <td>0</td>\n      <td>1</td>\n      <td>0</td>\n      <td>1</td>\n      <td>0</td>\n      <td>1</td>\n      <td>0</td>\n      <td>0</td>\n      <td>0</td>\n      <td>1</td>\n      <td>0</td>\n    </tr>\n    <tr>\n      <th>4180</th>\n      <td>25.0</td>\n      <td>1</td>\n      <td>0</td>\n      <td>0</td>\n      <td>0</td>\n      <td>0</td>\n      <td>0</td>\n      <td>0</td>\n      <td>1</td>\n      <td>1</td>\n      <td>0</td>\n      <td>0</td>\n      <td>1</td>\n      <td>0</td>\n      <td>0</td>\n      <td>1</td>\n      <td>0</td>\n      <td>1</td>\n      <td>0</td>\n    </tr>\n    <tr>\n      <th>4181</th>\n      <td>22.0</td>\n      <td>0</td>\n      <td>1</td>\n      <td>0</td>\n      <td>0</td>\n      <td>0</td>\n      <td>0</td>\n      <td>0</td>\n      <td>1</td>\n      <td>1</td>\n      <td>0</td>\n      <td>0</td>\n      <td>1</td>\n      <td>0</td>\n      <td>0</td>\n      <td>0</td>\n      <td>1</td>\n      <td>1</td>\n      <td>0</td>\n    </tr>\n    <tr>\n      <th>4182</th>\n      <td>31.0</td>\n      <td>0</td>\n      <td>1</td>\n      <td>0</td>\n      <td>0</td>\n      <td>0</td>\n      <td>0</td>\n      <td>0</td>\n      <td>1</td>\n      <td>1</td>\n      <td>0</td>\n      <td>1</td>\n      <td>0</td>\n      <td>1</td>\n      <td>0</td>\n      <td>0</td>\n      <td>0</td>\n      <td>1</td>\n      <td>0</td>\n    </tr>\n  </tbody>\n</table>\n<p>4183 rows × 19 columns</p>\n</div>"
     },
     "metadata": {},
     "execution_count": 119
    }
   ],
   "source": [
    "new_instance_dummies = pd.get_dummies(new_and_trained, columns=['gender', \n",
    "                                             'race', \n",
    "                                             'signs_of_mental_illness', \n",
    "                                             'threat_level',  \n",
    "                                             'flee', \n",
    "                                             'body_camera'])\n",
    "\n",
    "new_instance_dummies"
   ]
  },
  {
   "cell_type": "code",
   "execution_count": 122,
   "metadata": {},
   "outputs": [
    {
     "output_type": "execute_result",
     "data": {
      "text/plain": [
       "(2, 19)"
      ]
     },
     "metadata": {},
     "execution_count": 122
    }
   ],
   "source": [
    "new_instance_dummies = new_instance_dummies.iloc[:2,]\n",
    "new_instance_dummies.shape"
   ]
  },
  {
   "cell_type": "code",
   "execution_count": 125,
   "metadata": {},
   "outputs": [
    {
     "output_type": "execute_result",
     "data": {
      "text/plain": [
       "array([[0.30986184, 0.16447537, 0.5256628 ],\n",
       "       [0.57417977, 0.03253129, 0.39328897]], dtype=float32)"
      ]
     },
     "metadata": {},
     "execution_count": 125
    }
   ],
   "source": [
    "model_train.predict(new_instance_dummies)"
   ]
  },
  {
   "cell_type": "code",
   "execution_count": 129,
   "metadata": {},
   "outputs": [],
   "source": [
    "tfjs.converters.save_keras_model(model_train, '.keras_model')"
   ]
  },
  {
   "cell_type": "code",
   "execution_count": 1,
   "metadata": {},
   "outputs": [],
   "source": [
    "import tensorflow as tf"
   ]
  },
  {
   "cell_type": "code",
   "execution_count": 2,
   "metadata": {},
   "outputs": [
    {
     "output_type": "stream",
     "name": "stdout",
     "text": [
      "2.4.1\n"
     ]
    }
   ],
   "source": [
    "print(tf.__version__)"
   ]
  },
  {
   "cell_type": "code",
   "execution_count": null,
   "metadata": {},
   "outputs": [],
   "source": []
  }
 ]
}